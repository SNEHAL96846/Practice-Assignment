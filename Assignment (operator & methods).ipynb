{
 "cells": [
  {
   "cell_type": "markdown",
   "metadata": {},
   "source": [
    "Using Nand Oprator "
   ]
  },
  {
   "cell_type": "code",
   "execution_count": 3,
   "metadata": {},
   "outputs": [
    {
     "name": "stdout",
     "output_type": "stream",
     "text": [
      "Enter the first number: 16\n",
      "Enter the Second number: 20\n",
      "number is not multipule of 4 & 5\n"
     ]
    }
   ],
   "source": [
    "a=int(input(\"Enter the first number: \"))\n",
    "b=int(input(\"Enter the Second number: \"))\n",
    "\n",
    "if not(a%4==0 and b%5==0):\n",
    "    print(\"Any one number is multipule of 4 or 5\")\n",
    "else:\n",
    "    print(\"number is not multipule of 4 & 5\")"
   ]
  },
  {
   "cell_type": "markdown",
   "metadata": {},
   "source": [
    "Simple Max Number program"
   ]
  },
  {
   "cell_type": "code",
   "execution_count": 1,
   "metadata": {},
   "outputs": [
    {
     "name": "stdout",
     "output_type": "stream",
     "text": [
      "Enter the first number: 23\n",
      "Enter the Second number: 45\n",
      "From given number 45 is greater\n"
     ]
    }
   ],
   "source": [
    "a=int(input(\"Enter the first number: \"))\n",
    "b=int(input(\"Enter the Second number: \"))\n",
    "\n",
    "if (a>b):\n",
    "    print(\"From given number\",a,\"is greater\")\n",
    "else:\n",
    "    print(\"From given number\",b,\"is greater\")"
   ]
  },
  {
   "cell_type": "markdown",
   "metadata": {},
   "source": [
    "Find out max number of provided list"
   ]
  },
  {
   "cell_type": "code",
   "execution_count": 11,
   "metadata": {},
   "outputs": [
    {
     "name": "stdout",
     "output_type": "stream",
     "text": [
      "Maximum number is  990\n"
     ]
    }
   ],
   "source": [
    "list1 = [34,690,879,990,579,99,969]\n",
    "\n",
    "n=None\n",
    "\n",
    "for x, v in enumerate(list1):\n",
    "    if (n is None or v> n):\n",
    "        n=v\n",
    "        \n",
    "print(\"Maximum number is \", n)           "
   ]
  },
  {
   "cell_type": "code",
   "execution_count": 6,
   "metadata": {},
   "outputs": [
    {
     "name": "stdout",
     "output_type": "stream",
     "text": [
      "how many number: 8\n",
      "enter number 34\n",
      "enter number 56\n",
      "enter number 87\n",
      "enter number 89\n",
      "enter number 78\n",
      "enter number 898\n",
      "enter number 090\n",
      "enter number 998\n",
      "Maximum number is  998\n"
     ]
    }
   ],
   "source": [
    "lst=[]\n",
    "\n",
    "num =int(input(\"how many number: \"))\n",
    "\n",
    "for n in range(num):\n",
    "    num=int(input(\"enter number \"))\n",
    "    lst.append(num)\n",
    "    \n",
    "print(\"Maximum number is \", max(lst))   "
   ]
  },
  {
   "cell_type": "code",
   "execution_count": null,
   "metadata": {},
   "outputs": [],
   "source": []
  }
 ],
 "metadata": {
  "kernelspec": {
   "display_name": "Python 3",
   "language": "python",
   "name": "python3"
  },
  "language_info": {
   "codemirror_mode": {
    "name": "ipython",
    "version": 3
   },
   "file_extension": ".py",
   "mimetype": "text/x-python",
   "name": "python",
   "nbconvert_exporter": "python",
   "pygments_lexer": "ipython3",
   "version": "3.8.5"
  }
 },
 "nbformat": 4,
 "nbformat_minor": 4
}
